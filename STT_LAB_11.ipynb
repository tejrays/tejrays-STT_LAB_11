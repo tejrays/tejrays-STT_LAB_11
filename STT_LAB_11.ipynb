{
  "nbformat": 4,
  "nbformat_minor": 0,
  "metadata": {
    "colab": {
      "provenance": []
    },
    "kernelspec": {
      "name": "python3",
      "display_name": "Python 3"
    },
    "language_info": {
      "name": "python"
    }
  },
  "cells": [
    {
      "cell_type": "code",
      "execution_count": 1,
      "metadata": {
        "colab": {
          "base_uri": "https://localhost:8080/"
        },
        "id": "veAC5kTJQ7ds",
        "outputId": "54caedf1-48b0-4bdc-8b7d-4418f43c03cb"
      },
      "outputs": [
        {
          "output_type": "stream",
          "name": "stdout",
          "text": [
            "Train size: 5535\n",
            "Validation size: 1384\n",
            "Test size: 1820\n",
            "\n",
            "Sample training data:\n",
            "     a stirring , funny and finally transporting re imagining of beauty and the beast and 1930s horror films  \\\n",
            "26                                              too bad                                                        \n",
            "3484  rife with nutty cliches and far too much dialogue                                                        \n",
            "63    admirers of director abel ferrara may be relie...                                                        \n",
            "1044  the enjoyable undercover brother , a zany mix ...                                                        \n",
            "2594  knockaround guys plays like a student film by ...                                                        \n",
            "\n",
            "      1  \n",
            "26    0  \n",
            "3484  0  \n",
            "63    1  \n",
            "1044  1  \n",
            "2594  0  \n",
            "\n",
            "Sample test data:\n",
            "        no movement , no yuks , not much of anything  0\n",
            "0  a gob of drivel so sickly sweet , even the eag...  0\n",
            "1  gangs of new york is an unapologetic mess , wh...  0\n",
            "2  we never really feel involved with the story ,...  0\n",
            "3              this is one of polanski 's best films  1\n",
            "4  take care of my cat offers a refreshingly diff...  1\n"
          ]
        }
      ],
      "source": [
        "import pandas as pd\n",
        "from sklearn.model_selection import train_test_split\n",
        "\n",
        "# Load training data\n",
        "train_url = \"https://raw.githubusercontent.com/clairett/pytorch-sentiment-classification/master/data/SST2/train.tsv\"\n",
        "train_df = pd.read_csv(train_url, sep='\\t')\n",
        "\n",
        "# Load test data\n",
        "test_url = \"https://raw.githubusercontent.com/clairett/pytorch-sentiment-classification/master/data/SST2/test.tsv\"\n",
        "test_df = pd.read_csv(test_url, sep='\\t')\n",
        "\n",
        "# Split the training set into 80% train and 20% validation\n",
        "train_data, val_data = train_test_split(train_df, test_size=0.2, random_state=42)\n",
        "\n",
        "# Display the sizes\n",
        "print(\"Train size:\", len(train_data))\n",
        "print(\"Validation size:\", len(val_data))\n",
        "print(\"Test size:\", len(test_df))\n",
        "\n",
        "# Optional: show a few samples\n",
        "print(\"\\nSample training data:\")\n",
        "print(train_data.head())\n",
        "\n",
        "print(\"\\nSample test data:\")\n",
        "print(test_df.head())"
      ]
    },
    {
      "cell_type": "code",
      "source": [
        "import torch\n",
        "import torch.nn as nn\n",
        "import torch.nn.functional as F\n",
        "\n",
        "class SentimentClassifier(nn.Module):\n",
        "    def __init__(self, input_size=10000, hidden_sizes=[512, 256, 128, 64], output_size=2, dropout_prob=0.3):\n",
        "        super(SentimentClassifier, self).__init__()\n",
        "\n",
        "        # Layer 1: Input to first hidden layer\n",
        "        self.fc1 = nn.Linear(input_size, hidden_sizes[0])\n",
        "\n",
        "        # Layer 2: First to second hidden layer\n",
        "        self.fc2 = nn.Linear(hidden_sizes[0], hidden_sizes[1])\n",
        "\n",
        "        # Layer 3: Second to third hidden layer\n",
        "        self.fc3 = nn.Linear(hidden_sizes[1], hidden_sizes[2])\n",
        "\n",
        "        # Layer 4: Third to fourth hidden layer\n",
        "        self.fc4 = nn.Linear(hidden_sizes[2], hidden_sizes[3])\n",
        "\n",
        "        # Layer 5: Final output layer\n",
        "        self.fc5 = nn.Linear(hidden_sizes[3], output_size)\n",
        "\n",
        "        # Dropout layer\n",
        "        self.dropout = nn.Dropout(dropout_prob)\n",
        "\n",
        "    def forward(self, x):\n",
        "        # Layer 1 with ReLU and dropout\n",
        "        x = self.dropout(F.relu(self.fc1(x)))\n",
        "\n",
        "        # Layer 2 with ReLU and dropout\n",
        "        x = self.dropout(F.relu(self.fc2(x)))\n",
        "\n",
        "        # Layer 3 with ReLU and dropout\n",
        "        x = self.dropout(F.relu(self.fc3(x)))\n",
        "\n",
        "        # Layer 4 with ReLU and dropout\n",
        "        x = self.dropout(F.relu(self.fc4(x)))\n",
        "\n",
        "        # Final output layer (no activation here, will use CrossEntropyLoss)\n",
        "        x = self.fc5(x)\n",
        "\n",
        "        return x\n",
        "\n",
        "# Initialize the model\n",
        "model = SentimentClassifier()\n",
        "\n",
        "# Print model summary\n",
        "print(model)\n",
        "\n",
        "# Count total parameters\n",
        "total_params = sum(p.numel() for p in model.parameters() if p.requires_grad)\n",
        "print(f\"\\nTotal trainable parameters: {total_params:,}\")"
      ],
      "metadata": {
        "colab": {
          "base_uri": "https://localhost:8080/"
        },
        "id": "ZunQdhtfQ_Xx",
        "outputId": "ed82a777-942f-43e6-902a-63ad44d808d3"
      },
      "execution_count": 2,
      "outputs": [
        {
          "output_type": "stream",
          "name": "stdout",
          "text": [
            "SentimentClassifier(\n",
            "  (fc1): Linear(in_features=10000, out_features=512, bias=True)\n",
            "  (fc2): Linear(in_features=512, out_features=256, bias=True)\n",
            "  (fc3): Linear(in_features=256, out_features=128, bias=True)\n",
            "  (fc4): Linear(in_features=128, out_features=64, bias=True)\n",
            "  (fc5): Linear(in_features=64, out_features=2, bias=True)\n",
            "  (dropout): Dropout(p=0.3, inplace=False)\n",
            ")\n",
            "\n",
            "Total trainable parameters: 5,293,122\n"
          ]
        }
      ]
    },
    {
      "cell_type": "code",
      "source": [
        "def count_parameters(model):\n",
        "    return sum(p.numel() for p in model.parameters() if p.requires_grad)"
      ],
      "metadata": {
        "id": "PHbuwHzuRMF3"
      },
      "execution_count": 3,
      "outputs": []
    },
    {
      "cell_type": "code",
      "source": [
        "import torch\n",
        "import torch.nn as nn\n",
        "import torch.nn.functional as F\n",
        "\n",
        "class SentimentClassifier(nn.Module):\n",
        "    def __init__(self, input_size=10000, hidden_sizes=[512, 256, 128, 64], output_size=2, dropout_prob=0.3):\n",
        "        super(SentimentClassifier, self).__init__()\n",
        "\n",
        "        # Layer 1: Input → 512\n",
        "        self.fc1 = nn.Linear(input_size, hidden_sizes[0])\n",
        "\n",
        "        # Layer 2: 512 → 256\n",
        "        self.fc2 = nn.Linear(hidden_sizes[0], hidden_sizes[1])\n",
        "\n",
        "        # Layer 3: 256 → 128\n",
        "        self.fc3 = nn.Linear(hidden_sizes[1], hidden_sizes[2])\n",
        "\n",
        "        # Layer 4: 128 → 64\n",
        "        self.fc4 = nn.Linear(hidden_sizes[2], hidden_sizes[3])\n",
        "\n",
        "        # Layer 5: 64 → 2 (output)\n",
        "        self.fc5 = nn.Linear(hidden_sizes[3], output_size)\n",
        "\n",
        "        # Dropout layer\n",
        "        self.dropout = nn.Dropout(dropout_prob)\n",
        "\n",
        "    def forward(self, x):\n",
        "        x = self.dropout(F.relu(self.fc1(x)))\n",
        "        x = self.dropout(F.relu(self.fc2(x)))\n",
        "        x = self.dropout(F.relu(self.fc3(x)))\n",
        "        x = self.dropout(F.relu(self.fc4(x)))\n",
        "        x = self.fc5(x)  # No activation (CrossEntropyLoss handles it)\n",
        "        return x\n",
        "\n",
        "# Initialize model\n",
        "model = SentimentClassifier()\n",
        "\n",
        "# Count trainable parameters\n",
        "total_params = count_parameters(model)\n",
        "print(f\"Total trainable parameters: {total_params:,}\")\n",
        "\n",
        "# Breakdown per layer (optional)\n",
        "print(\"\\nParameter breakdown per layer:\")\n",
        "for name, param in model.named_parameters():\n",
        "    if param.requires_grad:\n",
        "        print(f\"{name}: {param.numel():,}\")"
      ],
      "metadata": {
        "colab": {
          "base_uri": "https://localhost:8080/"
        },
        "id": "lAGdOnFoRQEB",
        "outputId": "30c218ac-1d53-44e9-c417-6d753f4fbad4"
      },
      "execution_count": 4,
      "outputs": [
        {
          "output_type": "stream",
          "name": "stdout",
          "text": [
            "Total trainable parameters: 5,293,122\n",
            "\n",
            "Parameter breakdown per layer:\n",
            "fc1.weight: 5,120,000\n",
            "fc1.bias: 512\n",
            "fc2.weight: 131,072\n",
            "fc2.bias: 256\n",
            "fc3.weight: 32,768\n",
            "fc3.bias: 128\n",
            "fc4.weight: 8,192\n",
            "fc4.bias: 64\n",
            "fc5.weight: 128\n",
            "fc5.bias: 2\n"
          ]
        }
      ]
    },
    {
      "cell_type": "code",
      "source": [
        "import torch\n",
        "import torch.nn as nn\n",
        "import torch.optim as optim\n",
        "from torch.utils.data import DataLoader, TensorDataset\n",
        "from sklearn.feature_extraction.text import CountVectorizer\n",
        "import matplotlib.pyplot as plt\n",
        "\n",
        "# Model definition (same as before)\n",
        "class SentimentClassifier(nn.Module):\n",
        "    def __init__(self, input_size=10000, hidden_sizes=[512, 256, 128, 64], output_size=2, dropout_prob=0.3):\n",
        "        super(SentimentClassifier, self).__init__()\n",
        "        self.fc1 = nn.Linear(input_size, hidden_sizes[0])\n",
        "        self.fc2 = nn.Linear(hidden_sizes[0], hidden_sizes[1])\n",
        "        self.fc3 = nn.Linear(hidden_sizes[1], hidden_sizes[2])\n",
        "        self.fc4 = nn.Linear(hidden_sizes[2], hidden_sizes[3])\n",
        "        self.fc5 = nn.Linear(hidden_sizes[3], output_size)\n",
        "        self.dropout = nn.Dropout(dropout_prob)\n",
        "\n",
        "    def forward(self, x):\n",
        "        x = self.dropout(F.relu(self.fc1(x)))\n",
        "        x = self.dropout(F.relu(self.fc2(x)))\n",
        "        x = self.dropout(F.relu(self.fc3(x)))\n",
        "        x = self.dropout(F.relu(self.fc4(x)))\n",
        "        x = self.fc5(x)\n",
        "        return x\n",
        "\n",
        "# Data preparation\n",
        "vectorizer = CountVectorizer(max_features=10000)\n",
        "X_train = vectorizer.fit_transform(train_data.iloc[:, 0])  # First column is text\n",
        "y_train = train_data.iloc[:, 1].values  # Second column is label\n",
        "X_val = vectorizer.transform(val_data.iloc[:, 0])\n",
        "y_val = val_data.iloc[:, 1].values\n",
        "\n",
        "# Convert to tensors\n",
        "X_train = torch.tensor(X_train.toarray(), dtype=torch.float32)\n",
        "y_train = torch.tensor(y_train, dtype=torch.long)\n",
        "X_val = torch.tensor(X_val.toarray(), dtype=torch.float32)\n",
        "y_val = torch.tensor(y_val, dtype=torch.long)\n",
        "\n",
        "# Create DataLoaders\n",
        "train_dataset = TensorDataset(X_train, y_train)\n",
        "val_dataset = TensorDataset(X_val, y_val)\n",
        "train_loader = DataLoader(train_dataset, batch_size=64, shuffle=True)\n",
        "val_loader = DataLoader(val_dataset, batch_size=64)\n",
        "\n",
        "# Training setup\n",
        "device = torch.device('cuda' if torch.cuda.is_available() else 'cpu')\n",
        "model = SentimentClassifier().to(device)\n",
        "criterion = nn.CrossEntropyLoss()\n",
        "optimizer = optim.Adam(model.parameters(), lr=0.001)\n",
        "\n",
        "# Training loop\n",
        "best_val_acc = 0.0\n",
        "val_accuracies = []\n",
        "val_losses = []\n",
        "\n",
        "for epoch in range(10):\n",
        "    model.train()\n",
        "    for inputs, labels in train_loader:\n",
        "        inputs, labels = inputs.to(device), labels.to(device)\n",
        "        optimizer.zero_grad()\n",
        "        outputs = model(inputs)\n",
        "        loss = criterion(outputs, labels)\n",
        "        loss.backward()\n",
        "        optimizer.step()\n",
        "\n",
        "    # Validation\n",
        "    model.eval()\n",
        "    correct = 0\n",
        "    total = 0\n",
        "    val_loss = 0.0\n",
        "    with torch.no_grad():\n",
        "        for inputs, labels in val_loader:\n",
        "            inputs, labels = inputs.to(device), labels.to(device)\n",
        "            outputs = model(inputs)\n",
        "            loss = criterion(outputs, labels)\n",
        "            val_loss += loss.item()\n",
        "            _, predicted = torch.max(outputs.data, 1)\n",
        "            total += labels.size(0)\n",
        "            correct += (predicted == labels).sum().item()\n",
        "\n",
        "    val_acc = correct / total\n",
        "    val_loss /= len(val_loader)\n",
        "    val_accuracies.append(val_acc)\n",
        "    val_losses.append(val_loss)\n",
        "\n",
        "    if val_acc > best_val_acc:\n",
        "        best_val_acc = val_acc\n",
        "        torch.save(model.state_dict(), 'checkpoint.pt')\n",
        "\n",
        "    print(f'Epoch {epoch+1}: Val Loss: {val_loss:.4f}, Val Acc: {val_acc:.4f}')\n",
        "\n",
        "# Plotting\n",
        "plt.figure(figsize=(12, 5))\n",
        "plt.subplot(1, 2, 1)\n",
        "plt.plot(range(1, 11), val_losses, label='Validation Loss')\n",
        "plt.xlabel('Epochs')\n",
        "plt.ylabel('Loss')\n",
        "plt.legend()\n",
        "\n",
        "plt.subplot(1, 2, 2)\n",
        "plt.plot(range(1, 11), val_accuracies, label='Validation Accuracy', color='green')\n",
        "plt.xlabel('Epochs')\n",
        "plt.ylabel('Accuracy')\n",
        "plt.legend()\n",
        "plt.tight_layout()\n",
        "plt.savefig('training_metrics.png')\n",
        "plt.show()\n",
        "\n",
        "print(f\"Best validation accuracy: {best_val_acc:.4f}\")"
      ],
      "metadata": {
        "colab": {
          "base_uri": "https://localhost:8080/",
          "height": 562
        },
        "id": "Fm855vikRehs",
        "outputId": "ecfec148-9bcc-40ab-a9fe-439917a4058b"
      },
      "execution_count": 6,
      "outputs": [
        {
          "output_type": "stream",
          "name": "stdout",
          "text": [
            "Epoch 1: Val Loss: 0.4687, Val Acc: 0.7934\n",
            "Epoch 2: Val Loss: 0.5690, Val Acc: 0.7746\n",
            "Epoch 3: Val Loss: 0.7391, Val Acc: 0.7702\n",
            "Epoch 4: Val Loss: 1.2122, Val Acc: 0.7702\n",
            "Epoch 5: Val Loss: 1.7207, Val Acc: 0.7724\n",
            "Epoch 6: Val Loss: 1.9635, Val Acc: 0.7645\n",
            "Epoch 7: Val Loss: 1.9368, Val Acc: 0.7645\n",
            "Epoch 8: Val Loss: 1.9041, Val Acc: 0.7572\n",
            "Epoch 9: Val Loss: 2.3219, Val Acc: 0.7536\n",
            "Epoch 10: Val Loss: 2.7136, Val Acc: 0.7514\n"
          ]
        },
        {
          "output_type": "display_data",
          "data": {
            "text/plain": [
              "<Figure size 1200x500 with 2 Axes>"
            ],
            "image/png": "[encoded data removed]"
          },
          "metadata": {}
        },
        {
          "output_type": "stream",
          "name": "stdout",
          "text": [
            "Best validation accuracy: 0.7934\n"
          ]
        }
      ]
    },
    {
      "cell_type": "code",
      "source": [
        "import torch.quantization\n",
        "\n",
        "# Load the best saved model\n",
        "model_fp32 = SentimentClassifier().to('cpu')\n",
        "model_fp32.load_state_dict(torch.load('checkpoint.pt', map_location='cpu'))\n",
        "model_fp32.eval()\n",
        "\n",
        "# Dynamic Quantization to INT8 (weights only)\n",
        "model_int8 = torch.quantization.quantize_dynamic(\n",
        "    model_fp32,  # Original FP32 model\n",
        "    {nn.Linear},  # Layers to quantize (all Linear layers)\n",
        "    dtype=torch.qint8  # Quantization type (use torch.quint4x2 for INT4)\n",
        ")\n",
        "\n",
        "# For INT4 (4-bit) quantization (experimental, requires PyTorch 1.8+)\n",
        "# Commenting out the INT4 quantization part because it's not supported for dynamic quantization of Linear layers.\n",
        "# try:\n",
        "#    model_int4 = torch.quantization.quantize_dynamic(\n",
        "#        model_fp32,\n",
        "#        {nn.Linear},\n",
        "#        dtype=torch.quint4x2\n",
        "#    )\n",
        "# except AttributeError:\n",
        "#    print(\"INT4 quantization requires PyTorch 1.8+\")\n",
        "#    model_int4 = None\n",
        "model_int4 = None # Setting model_int4 to None to avoid errors in the following code\n",
        "\n",
        "# Test inference with quantized models\n",
        "sample_input = torch.randn(1, 10000)  # Example input\n",
        "print(\"FP32 model size:\", sum(p.numel() * p.element_size() for p in model_fp32.parameters()) / 1024, \"KB\")\n",
        "print(\"INT8 model size:\", sum(p.numel() * p.element_size() for p in model_int8.parameters()) / 1024, \"KB\")\n",
        "if model_int4: # This condition will always be False now\n",
        "    print(\"INT4 model size:\", sum(p.numel() * p.element_size() for p in model_int4.parameters()) / 1024, \"KB\")"
      ],
      "metadata": {
        "colab": {
          "base_uri": "https://localhost:8080/"
        },
        "id": "1W4WAFb8SiMv",
        "outputId": "4eda7fe2-5653-43c4-efd7-9c680e697d60"
      },
      "execution_count": 9,
      "outputs": [
        {
          "output_type": "stream",
          "name": "stdout",
          "text": [
            "FP32 model size: 20676.2578125 KB\n",
            "INT8 model size: 0.0 KB\n"
          ]
        }
      ]
    },
    {
      "cell_type": "code",
      "source": [
        "# Convert to FP16\n",
        "model_fp16 = SentimentClassifier().half().to('cuda' if torch.cuda.is_available() else 'cpu')\n",
        "model_fp16.load_state_dict(torch.load('checkpoint.pt', map_location='cuda' if torch.cuda.is_available() else 'cpu'))\n",
        "model_fp16.eval()\n",
        "\n",
        "# Test FP16 inference\n",
        "with torch.no_grad():\n",
        "    sample_input = sample_input.half().to('cuda' if torch.cuda.is_available() else 'cpu')\n",
        "    output_fp16 = model_fp16(sample_input)\n",
        "    print(\"FP16 output:\", output_fp16)"
      ],
      "metadata": {
        "colab": {
          "base_uri": "https://localhost:8080/"
        },
        "id": "Y8xLtrKDSooI",
        "outputId": "7fbe23ed-cff9-4f65-959d-32f959056dea"
      },
      "execution_count": 10,
      "outputs": [
        {
          "output_type": "stream",
          "name": "stdout",
          "text": [
            "FP16 output: tensor([[ 2.3477, -1.5400]], dtype=torch.float16)\n"
          ]
        }
      ]
    },
    {
      "cell_type": "code",
      "source": [
        "import time\n",
        "\n",
        "def benchmark_model(model, input_data, num_runs=100):\n",
        "    start = time.time()\n",
        "    with torch.no_grad():\n",
        "        for _ in range(num_runs):\n",
        "            _ = model(input_data)\n",
        "    return (time.time() - start) / num_runs\n",
        "\n",
        "# Benchmark all models\n",
        "input_fp32 = torch.randn(1, 10000)\n",
        "results = {\n",
        "    'FP32': benchmark_model(model_fp32, input_fp32),\n",
        "    'INT8': benchmark_model(model_int8, input_fp32),\n",
        "    'FP16': benchmark_model(model_fp16, input_fp32.half().to(next(model_fp16.parameters()).device))\n",
        "}\n",
        "\n",
        "if model_int4:\n",
        "    results['INT4'] = benchmark_model(model_int4, input_fp32)\n",
        "\n",
        "print(\"\\nInference Latency (ms):\")\n",
        "for name, latency in results.items():\n",
        "    print(f\"{name}: {latency*1000:.2f}ms\")\n",
        "\n",
        "# Plot comparison\n",
        "plt.figure(figsize=(10, 5))\n",
        "plt.bar(results.keys(), [v*1000 for v in results.values()])\n",
        "plt.title('Model Inference Latency Comparison')\n",
        "plt.ylabel('Latency (ms)')\n",
        "plt.savefig('quantization_comparison.png')\n",
        "plt.show()"
      ],
      "metadata": {
        "colab": {
          "base_uri": "https://localhost:8080/",
          "height": 555
        },
        "id": "BC8c4E8nSxyg",
        "outputId": "00fda256-c97a-43d0-cfc9-568c8f071ce1"
      },
      "execution_count": 11,
      "outputs": [
        {
          "output_type": "stream",
          "name": "stdout",
          "text": [
            "\n",
            "Inference Latency (ms):\n",
            "FP32: 4.03ms\n",
            "INT8: 2.22ms\n",
            "FP16: 2.03ms\n"
          ]
        },
        {
          "output_type": "display_data",
          "data": {
            "text/plain": [
              "<Figure size 1000x500 with 1 Axes>"
            ],
            "image/png": "[encoded data removed]"
          },
          "metadata": {}
        }
      ]
    },
    {
      "cell_type": "code",
      "source": [
        "!pip install pympler"
      ],
      "metadata": {
        "colab": {
          "base_uri": "https://localhost:8080/"
        },
        "id": "7tu8H-SWTReM",
        "outputId": "47859f3f-304f-4e79-e77a-9b7d57143665"
      },
      "execution_count": 13,
      "outputs": [
        {
          "output_type": "stream",
          "name": "stdout",
          "text": [
            "Collecting pympler\n",
            "  Downloading Pympler-1.1-py3-none-any.whl.metadata (3.6 kB)\n",
            "Downloading Pympler-1.1-py3-none-any.whl (165 kB)\n",
            "\u001b[?25l   \u001b[90m━━━━━━━━━━━━━━━━━━━━━━━━━━━━━━━━━━━━━━━━\u001b[0m \u001b[32m0.0/165.8 kB\u001b[0m \u001b[31m?\u001b[0m eta \u001b[36m-:--:--\u001b[0m\r\u001b[2K   \u001b[90m━━━━━━━━━━━━━━━━━━━━━━━━━━━━━━━━━━━━━━━━\u001b[0m \u001b[32m165.8/165.8 kB\u001b[0m \u001b[31m10.5 MB/s\u001b[0m eta \u001b[36m0:00:00\u001b[0m\n",
            "\u001b[?25hInstalling collected packages: pympler\n",
            "Successfully installed pympler-1.1\n"
          ]
        }
      ]
    },
    {
      "source": [
        "import torch\n",
        "from sklearn.metrics import accuracy_score\n",
        "\n",
        "# 1. Load your test data (assuming X_test and y_test are prepared)\n",
        "test_dataset = TensorDataset(X_test, y_test)\n",
        "test_loader = DataLoader(test_dataset, batch_size=64)\n",
        "\n",
        "# 2. Evaluation function\n",
        "def get_accuracy(model, test_loader, dtype=torch.float32, device='cpu'):\n",
        "    model.to(device).eval()\n",
        "    all_preds, all_labels = [], []\n",
        "\n",
        "    with torch.no_grad():\n",
        "        for inputs, labels in test_loader:\n",
        "            inputs = inputs.to(device).to(dtype)\n",
        "            labels = labels.to(device)\n",
        "\n",
        "            outputs = model(inputs)\n",
        "            _, preds = torch.max(outputs, 1)\n",
        "\n",
        "            all_preds.extend(preds.cpu().numpy())\n",
        "            all_labels.extend(labels.cpu().numpy())\n",
        "\n",
        "    return accuracy_score(all_labels, all_preds) * 100\n",
        "\n",
        "# 3. Load original FP32 model\n",
        "model_fp32 = SentimentClassifier()\n",
        "model_fp32.load_state_dict(torch.load('checkpoint.pt'))\n",
        "\n",
        "# 4. Create quantized models\n",
        "model_int8 = torch.quantization.quantize_dynamic(\n",
        "    model_fp32,\n",
        "    {nn.Linear},\n",
        "    dtype=torch.qint8\n",
        ")\n",
        "\n",
        "model_fp16 = SentimentClassifier().half()\n",
        "model_fp16.load_state_dict(torch.load('checkpoint.pt'))\n",
        "\n",
        "# 5. Get accuracies\n",
        "device = 'cuda' if torch.cuda.is_available() else 'cpu'\n",
        "\n",
        "fp32_acc = get_accuracy(model_fp32, test_loader, torch.float32, device)\n",
        "int8_acc = get_accuracy(model_int8, test_loader, torch.float32, device)  # Input stays FP32 for INT8\n",
        "fp16_acc = get_accuracy(model_fp16, test_loader, torch.float16, device)\n",
        "\n",
        "# 6. Print results\n",
        "print(f\"Original (FP32) Accuracy: {fp32_acc:.2f}%\")\n",
        "print(f\"Dynamic (INT8) Accuracy: {int8_acc:.2f}%\")\n",
        "print(f\"Half (FP16) Accuracy: {fp16_acc:.2f}%\")"
      ],
      "cell_type": "code",
      "metadata": {
        "colab": {
          "base_uri": "https://localhost:8080/"
        },
        "id": "lYd0vtXyTqWZ",
        "outputId": "081202d1-236e-4791-e75d-9d7031ac8770"
      },
      "execution_count": 16,
      "outputs": [
        {
          "output_type": "stream",
          "name": "stdout",
          "text": [
            "Original (FP32) Accuracy: 78.79%\n",
            "Dynamic (INT8) Accuracy: 78.74%\n",
            "Half (FP16) Accuracy: 78.79%\n"
          ]
        }
      ]
    }
  ]
}